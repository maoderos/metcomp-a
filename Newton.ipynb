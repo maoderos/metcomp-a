{
 "cells": [
  {
   "cell_type": "code",
   "execution_count": 5,
   "metadata": {},
   "outputs": [
    {
     "name": "stdout",
     "output_type": "stream",
     "text": [
      "-1.3588989435406738\n",
      "7.358898943540673\n"
     ]
    }
   ],
   "source": [
    "\n",
    "def f(x): \n",
    "    return (-x**2)+(6*x)+10\n",
    "\n",
    "def derivada_d(f, x, dx=1e-10): \n",
    "    return ((f(x+dx)-f(x))/(dx))\n",
    "\n",
    "\n",
    "def newton(f, a, erro=1e-10): \n",
    "    aux=a \n",
    "    b = aux - (f(aux)/(derivada_d(f, aux))) \n",
    "    while (abs(b-aux)>erro): \n",
    "        aux = b \n",
    "        b = aux - (f(aux)/(derivada_d(f, aux))) \n",
    "         \n",
    "    return b \n",
    "\n",
    "print(newton(f, -2))\n",
    "print(newton(f,5))"
   ]
  },
  {
   "cell_type": "code",
   "execution_count": null,
   "metadata": {},
   "outputs": [],
   "source": []
  }
 ],
 "metadata": {
  "kernelspec": {
   "display_name": "Python 3",
   "language": "python",
   "name": "python3"
  },
  "language_info": {
   "codemirror_mode": {
    "name": "ipython",
    "version": 3
   },
   "file_extension": ".py",
   "mimetype": "text/x-python",
   "name": "python",
   "nbconvert_exporter": "python",
   "pygments_lexer": "ipython3",
   "version": "3.7.3"
  }
 },
 "nbformat": 4,
 "nbformat_minor": 2
}
