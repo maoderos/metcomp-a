{
 "cells": [
  {
   "cell_type": "code",
   "execution_count": 1,
   "metadata": {},
   "outputs": [
    {
     "name": "stdout",
     "output_type": "stream",
     "text": [
      "Digite a temperatura em graus Celsius: \n",
      "45\n",
      "113.0 graus Farenheit\n"
     ]
    }
   ],
   "source": [
    "\"\"\"Conversão de Celsius para Farenheit. Contém um verificador para ver se usuário escreveu \n",
    "   um número ou uma string\"\"\"\n",
    "\n",
    "def convert_tf(t_c):\n",
    "    t = (9/5)*t_c + 32\n",
    "    print(\"{0} graus Farenheit\".format(t))\n",
    "    \n",
    "is_num = False\n",
    "while is_num == False:\n",
    "    print(\"Digite a temperatura em graus Celsius: \")\n",
    "    tc = input()\n",
    "    try:\n",
    "        tc_num = float(tc)\n",
    "        convert_tf(tc_num)\n",
    "        if tc_num < -273:\n",
    "            print(\"Temperatura inválida\")\n",
    "            pass\n",
    "        is_num = True\n",
    "    except:\n",
    "        pass"
   ]
  },
  {
   "cell_type": "code",
   "execution_count": 26,
   "metadata": {},
   "outputs": [
    {
     "name": "stdout",
     "output_type": "stream",
     "text": [
      "Valores invádidos. Não podem strings nem a=0\n"
     ]
    }
   ],
   "source": [
    "\"\"\"Cálculo raízes de equação de 2 grau\"\"\"\n",
    "\n",
    "import math as math\n",
    "\n",
    "def roots(a,b,c):\n",
    "    if(a==0 or isinstance(a,str) or isinstance(b,str) or isinstance(c,str)):\n",
    "        print(\"Valores invádidos. Não podem strings nem a=0\")\n",
    "        return\n",
    "    delta = b**2 -4*a*c\n",
    "    if (delta >=0):\n",
    "        x1 = (-b + math.sqrt(delta))/(2*a)\n",
    "        x2 = (-b - math.sqrt(delta))/(2*a)\n",
    "        print(\"Raizes são x1 = {0} e x2= {1}\".format(x1,x2))\n",
    "    else:\n",
    "        real = -b/(2*a)\n",
    "        im1 = math.sqrt(abs(delta))/(2*a)\n",
    "        print(\"Raizes são x1= {0} + {1}j e x2= {0} - {1}j\".format(real,im1))\n",
    "                        \n",
    "roots(0,2,6)            \n",
    "            "
   ]
  },
  {
   "cell_type": "code",
   "execution_count": null,
   "metadata": {},
   "outputs": [],
   "source": []
  }
 ],
 "metadata": {
  "kernelspec": {
   "display_name": "Python 3",
   "language": "python",
   "name": "python3"
  },
  "language_info": {
   "codemirror_mode": {
    "name": "ipython",
    "version": 3
   },
   "file_extension": ".py",
   "mimetype": "text/x-python",
   "name": "python",
   "nbconvert_exporter": "python",
   "pygments_lexer": "ipython3",
   "version": "3.7.3"
  }
 },
 "nbformat": 4,
 "nbformat_minor": 2
}
