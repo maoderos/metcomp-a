{
  "nbformat": 4,
  "nbformat_minor": 0,
  "metadata": {
    "kernelspec": {
      "display_name": "Python 3",
      "language": "python",
      "name": "python3"
    },
    "language_info": {
      "codemirror_mode": {
        "name": "ipython",
        "version": 3
      },
      "file_extension": ".py",
      "mimetype": "text/x-python",
      "name": "python",
      "nbconvert_exporter": "python",
      "pygments_lexer": "ipython3",
      "version": "3.8.3"
    },
    "colab": {
      "name": "aula_python_4.ipynb",
      "provenance": []
    }
  },
  "cells": [
    {
      "cell_type": "markdown",
      "metadata": {
        "id": "ljXY_uMvAjnQ"
      },
      "source": [
        "# Revisão"
      ]
    },
    {
      "cell_type": "markdown",
      "metadata": {
        "id": "EtimU860AjoS"
      },
      "source": [
        "def inicia a definição de uma função"
      ]
    },
    {
      "cell_type": "code",
      "metadata": {
        "id": "JSF5dJzsAjoa",
        "colab": {
          "base_uri": "https://localhost:8080/"
        },
        "outputId": "7854105e-7912-4be3-a682-cced6c63f00a"
      },
      "source": [
        "def parabola(x,a,b,c):\n",
        "    y = a*x**2+b*x+c\n",
        "    return y\n",
        "\n",
        "parabola(1,5,2,4)"
      ],
      "execution_count": 2,
      "outputs": [
        {
          "output_type": "execute_result",
          "data": {
            "text/plain": [
              "11"
            ]
          },
          "metadata": {
            "tags": []
          },
          "execution_count": 2
        }
      ]
    },
    {
      "cell_type": "markdown",
      "metadata": {
        "id": "afSCx40qAjod"
      },
      "source": [
        "Funções com argumentos com valor padrão:"
      ]
    },
    {
      "cell_type": "code",
      "metadata": {
        "id": "n51Q67xEAjoe",
        "colab": {
          "base_uri": "https://localhost:8080/"
        },
        "outputId": "1c84eaf1-8f0c-4fdb-aa04-376892ed89b2"
      },
      "source": [
        "def parabola_2(x,a=5,b=2,c=4):\n",
        "    y = a*x**2+b*x+c\n",
        "    return y\n",
        "    \n",
        "parabola_2(1)\n"
      ],
      "execution_count": 3,
      "outputs": [
        {
          "output_type": "execute_result",
          "data": {
            "text/plain": [
              "11"
            ]
          },
          "metadata": {
            "tags": []
          },
          "execution_count": 3
        }
      ]
    },
    {
      "cell_type": "markdown",
      "metadata": {
        "id": "inO1hv-gAjpH"
      },
      "source": [
        "Funções anônimas podem ser criadas com a palavra-chave lambda. As funções lambdas são restritas a uma única (em geral pequena) expressão. "
      ]
    },
    {
      "cell_type": "code",
      "metadata": {
        "id": "fbuRN88sAjpI",
        "colab": {
          "base_uri": "https://localhost:8080/"
        },
        "outputId": "82239392-95a4-4752-f5a3-b15e03ee695c"
      },
      "source": [
        "def quadrado(x):\n",
        "    return x**2\n",
        "\n",
        "f=quadrado(7)\n",
        "print(f)"
      ],
      "execution_count": 4,
      "outputs": [
        {
          "output_type": "stream",
          "text": [
            "49\n"
          ],
          "name": "stdout"
        }
      ]
    },
    {
      "cell_type": "code",
      "metadata": {
        "id": "Om6ZHH1hAjpK",
        "colab": {
          "base_uri": "https://localhost:8080/"
        },
        "outputId": "63b7c346-bca7-439f-ed27-9342a129340d"
      },
      "source": [
        "f2 = lambda x: x**2\n",
        "\n",
        "f2(6)"
      ],
      "execution_count": 5,
      "outputs": [
        {
          "output_type": "execute_result",
          "data": {
            "text/plain": [
              "36"
            ]
          },
          "metadata": {
            "tags": []
          },
          "execution_count": 5
        }
      ]
    },
    {
      "cell_type": "code",
      "metadata": {
        "id": "Gz9fgSn0AjpN",
        "colab": {
          "base_uri": "https://localhost:8080/"
        },
        "outputId": "341954e2-ae2f-404a-cf40-3c0def7a5ec7"
      },
      "source": [
        "f_soma = lambda a,b: a+b\n",
        "f_soma(5,9)"
      ],
      "execution_count": 6,
      "outputs": [
        {
          "output_type": "execute_result",
          "data": {
            "text/plain": [
              "14"
            ]
          },
          "metadata": {
            "tags": []
          },
          "execution_count": 6
        }
      ]
    },
    {
      "cell_type": "markdown",
      "metadata": {
        "id": "kGfiN78FAjpR"
      },
      "source": [
        "# Estrutura de dados"
      ]
    },
    {
      "cell_type": "markdown",
      "metadata": {
        "id": "M-wz84F6AjpS"
      },
      "source": [
        "Veja a seguir mais métodos de objetos do tipo lista:"
      ]
    },
    {
      "cell_type": "code",
      "metadata": {
        "id": "M0dBIpdnAjpT"
      },
      "source": [
        "l=[5,18,43,77,91,18,77]"
      ],
      "execution_count": 7,
      "outputs": []
    },
    {
      "cell_type": "markdown",
      "metadata": {
        "id": "UvpCBAtv5SxJ"
      },
      "source": [
        "Adicionar um elemento ao final da lista"
      ]
    },
    {
      "cell_type": "code",
      "metadata": {
        "id": "35dmXc7HAjpU",
        "colab": {
          "base_uri": "https://localhost:8080/"
        },
        "outputId": "0c7af3cf-b915-41f9-b299-949c6e62b44c"
      },
      "source": [
        "l.append(100)\n",
        "print(l)"
      ],
      "execution_count": 8,
      "outputs": [
        {
          "output_type": "stream",
          "text": [
            "[5, 18, 43, 77, 91, 18, 77, 100]\n"
          ],
          "name": "stdout"
        }
      ]
    },
    {
      "cell_type": "markdown",
      "metadata": {
        "id": "kBQ6c7aF5XIz"
      },
      "source": [
        "Inserir um elemento em uma dada posição. Nesse caso insere o elemento 9 na posição de índice 1. "
      ]
    },
    {
      "cell_type": "code",
      "metadata": {
        "id": "MWCEvzVCAjpX",
        "colab": {
          "base_uri": "https://localhost:8080/"
        },
        "outputId": "b79ffcee-603f-4660-b162-ddc5b3772a82"
      },
      "source": [
        "l.insert(1,9)\n",
        "print(l)"
      ],
      "execution_count": 9,
      "outputs": [
        {
          "output_type": "stream",
          "text": [
            "[5, 9, 18, 43, 77, 91, 18, 77, 100]\n"
          ],
          "name": "stdout"
        }
      ]
    },
    {
      "cell_type": "markdown",
      "metadata": {
        "id": "ketvtP0d5egJ"
      },
      "source": [
        "Remover o primeiro elemento da lista que tem valor igual ao argumento (nesse caso remove o elemento 18)"
      ]
    },
    {
      "cell_type": "code",
      "metadata": {
        "id": "L5FW-aTZAjpZ",
        "colab": {
          "base_uri": "https://localhost:8080/"
        },
        "outputId": "95e9eb55-c187-44e1-fa41-f098032c923b"
      },
      "source": [
        "l.remove(18)\n",
        "print(l)"
      ],
      "execution_count": 10,
      "outputs": [
        {
          "output_type": "stream",
          "text": [
            "[5, 9, 43, 77, 91, 18, 77, 100]\n"
          ],
          "name": "stdout"
        }
      ]
    },
    {
      "cell_type": "markdown",
      "metadata": {
        "id": "mpHysBmk5ith"
      },
      "source": [
        "Contar o número de vezes que um elemento aparece na lista"
      ]
    },
    {
      "cell_type": "code",
      "metadata": {
        "id": "M0HpH6lfAjpb",
        "colab": {
          "base_uri": "https://localhost:8080/"
        },
        "outputId": "241e360d-e0f0-4b61-f366-f707f0f26665"
      },
      "source": [
        "l.count(77)"
      ],
      "execution_count": 11,
      "outputs": [
        {
          "output_type": "execute_result",
          "data": {
            "text/plain": [
              "2"
            ]
          },
          "metadata": {
            "tags": []
          },
          "execution_count": 11
        }
      ]
    },
    {
      "cell_type": "code",
      "metadata": {
        "id": "CtsfVI2DAjpd",
        "colab": {
          "base_uri": "https://localhost:8080/"
        },
        "outputId": "6dd96abf-fc8f-4545-828b-8368475c39e2"
      },
      "source": [
        "print(l)"
      ],
      "execution_count": 12,
      "outputs": [
        {
          "output_type": "stream",
          "text": [
            "[5, 9, 43, 77, 91, 18, 77, 100]\n"
          ],
          "name": "stdout"
        }
      ]
    },
    {
      "cell_type": "markdown",
      "metadata": {
        "id": "8oQ_C1OY5nys"
      },
      "source": [
        "Remover o elemento em uma dada posição. Esse método remove o elemento e o retorna. \n",
        "\n",
        "Nesse caso remove o elemento de índice 1."
      ]
    },
    {
      "cell_type": "code",
      "metadata": {
        "id": "X7tAe3_JAjph",
        "colab": {
          "base_uri": "https://localhost:8080/"
        },
        "outputId": "2ea99cda-b924-4575-ab76-7b07454f4c4b"
      },
      "source": [
        "l.pop(1)"
      ],
      "execution_count": 13,
      "outputs": [
        {
          "output_type": "execute_result",
          "data": {
            "text/plain": [
              "9"
            ]
          },
          "metadata": {
            "tags": []
          },
          "execution_count": 13
        }
      ]
    },
    {
      "cell_type": "code",
      "metadata": {
        "id": "pMuZwicKAjpj",
        "colab": {
          "base_uri": "https://localhost:8080/"
        },
        "outputId": "40f5e8c5-2415-4d73-8a81-3cf31337e951"
      },
      "source": [
        "print(l)"
      ],
      "execution_count": 14,
      "outputs": [
        {
          "output_type": "stream",
          "text": [
            "[5, 43, 77, 91, 18, 77, 100]\n"
          ],
          "name": "stdout"
        }
      ]
    },
    {
      "cell_type": "markdown",
      "metadata": {
        "id": "6lKosaGq5sAf"
      },
      "source": [
        "Devolver o índice do primeiro elemento cujo valor é igual ao argumento (nesse caso 91)\n"
      ]
    },
    {
      "cell_type": "code",
      "metadata": {
        "id": "DcXX3HjpAjpl",
        "colab": {
          "base_uri": "https://localhost:8080/"
        },
        "outputId": "85e50696-b9f1-4618-e883-e8c29eac7fa9"
      },
      "source": [
        "l.index(91)"
      ],
      "execution_count": 15,
      "outputs": [
        {
          "output_type": "execute_result",
          "data": {
            "text/plain": [
              "3"
            ]
          },
          "metadata": {
            "tags": []
          },
          "execution_count": 15
        }
      ]
    },
    {
      "cell_type": "code",
      "metadata": {
        "id": "kK9a4QLKAjpn",
        "colab": {
          "base_uri": "https://localhost:8080/"
        },
        "outputId": "fa2fe5ba-ef65-4780-9763-76691cf5e42e"
      },
      "source": [
        "l.index(77)"
      ],
      "execution_count": 16,
      "outputs": [
        {
          "output_type": "execute_result",
          "data": {
            "text/plain": [
              "2"
            ]
          },
          "metadata": {
            "tags": []
          },
          "execution_count": 16
        }
      ]
    },
    {
      "cell_type": "code",
      "metadata": {
        "id": "_-arrobkAjpr",
        "colab": {
          "base_uri": "https://localhost:8080/",
          "height": 171
        },
        "outputId": "c2f6cfbc-9fc9-4d02-cbe5-bb51b44e6183"
      },
      "source": [
        "l.index(53)"
      ],
      "execution_count": 17,
      "outputs": [
        {
          "output_type": "error",
          "ename": "ValueError",
          "evalue": "ignored",
          "traceback": [
            "\u001b[0;31m---------------------------------------------------------------------------\u001b[0m",
            "\u001b[0;31mValueError\u001b[0m                                Traceback (most recent call last)",
            "\u001b[0;32m<ipython-input-17-d08c076b8924>\u001b[0m in \u001b[0;36m<module>\u001b[0;34m()\u001b[0m\n\u001b[0;32m----> 1\u001b[0;31m \u001b[0ml\u001b[0m\u001b[0;34m.\u001b[0m\u001b[0mindex\u001b[0m\u001b[0;34m(\u001b[0m\u001b[0;36m53\u001b[0m\u001b[0;34m)\u001b[0m\u001b[0;34m\u001b[0m\u001b[0;34m\u001b[0m\u001b[0m\n\u001b[0m",
            "\u001b[0;31mValueError\u001b[0m: 53 is not in list"
          ]
        }
      ]
    },
    {
      "cell_type": "markdown",
      "metadata": {
        "id": "gMzrZ4ok5vT-"
      },
      "source": [
        "Ordenar os elementos da lista"
      ]
    },
    {
      "cell_type": "code",
      "metadata": {
        "id": "kQNU2RfZAjpu",
        "colab": {
          "base_uri": "https://localhost:8080/"
        },
        "outputId": "d8535b92-450a-4dc6-c134-803a4e55caba"
      },
      "source": [
        "print(\"lista:\",l)\n",
        "l.sort()\n",
        "print(\"lista ordenada:\", l)"
      ],
      "execution_count": 19,
      "outputs": [
        {
          "output_type": "stream",
          "text": [
            "lista: [5, 18, 43, 77, 77, 91, 100]\n",
            "lista ordenada: [5, 18, 43, 77, 77, 91, 100]\n"
          ],
          "name": "stdout"
        }
      ]
    },
    {
      "cell_type": "markdown",
      "metadata": {
        "id": "q12Heplp50FX"
      },
      "source": [
        "Ordenar em ordem reversa"
      ]
    },
    {
      "cell_type": "code",
      "metadata": {
        "id": "tKWkBFanAjpv",
        "colab": {
          "base_uri": "https://localhost:8080/"
        },
        "outputId": "2a0fb969-147f-4390-a2c9-8845da2f0df7"
      },
      "source": [
        "l=[5, 43, 77, 91, 18, 77, 100]  #definindo novamente a lista l\n",
        "l.sort(reverse=True)  \n",
        "print(l)"
      ],
      "execution_count": 20,
      "outputs": [
        {
          "output_type": "stream",
          "text": [
            "[100, 91, 77, 77, 43, 18, 5]\n"
          ],
          "name": "stdout"
        }
      ]
    },
    {
      "cell_type": "markdown",
      "metadata": {
        "id": "MERcJaMu52xm"
      },
      "source": [
        "Inverter a ordem dos elementos"
      ]
    },
    {
      "cell_type": "code",
      "metadata": {
        "id": "K5DjtPYXAjpz",
        "colab": {
          "base_uri": "https://localhost:8080/"
        },
        "outputId": "9fe577bd-35bd-4a80-a0e6-9ef3268b6da4"
      },
      "source": [
        "l=[5, 43, 77, 91, 18, 77, 100] #definindo novamente a lista l\n",
        "l.reverse()   \n",
        "print(l)"
      ],
      "execution_count": 21,
      "outputs": [
        {
          "output_type": "stream",
          "text": [
            "[100, 77, 18, 91, 77, 43, 5]\n"
          ],
          "name": "stdout"
        }
      ]
    },
    {
      "cell_type": "markdown",
      "metadata": {
        "id": "npdHfX7M55wd"
      },
      "source": [
        "Copiar os elementos da lista"
      ]
    },
    {
      "cell_type": "code",
      "metadata": {
        "id": "EHe-Ld7aAjp0",
        "colab": {
          "base_uri": "https://localhost:8080/"
        },
        "outputId": "d0500aad-58dc-4f67-99a9-14204bb04b4f"
      },
      "source": [
        "l_c=l.copy()\n",
        "print(l_c)"
      ],
      "execution_count": 22,
      "outputs": [
        {
          "output_type": "stream",
          "text": [
            "[100, 77, 18, 91, 77, 43, 5]\n"
          ],
          "name": "stdout"
        }
      ]
    },
    {
      "cell_type": "markdown",
      "metadata": {
        "id": "3ublU86359WV"
      },
      "source": [
        "Para iterar sobre uma lista, a posição e o valor podem ser obtidos simultaneamente com a função enumerate()"
      ]
    },
    {
      "cell_type": "code",
      "metadata": {
        "id": "8SE0oFJnAjp4",
        "colab": {
          "base_uri": "https://localhost:8080/"
        },
        "outputId": "28dd7d8e-5b65-46b3-d354-e9cefadec17d"
      },
      "source": [
        "for i, v in enumerate(l_c):\n",
        "    print(i,v)"
      ],
      "execution_count": 23,
      "outputs": [
        {
          "output_type": "stream",
          "text": [
            "0 100\n",
            "1 77\n",
            "2 18\n",
            "3 91\n",
            "4 77\n",
            "5 43\n",
            "6 5\n"
          ],
          "name": "stdout"
        }
      ]
    },
    {
      "cell_type": "markdown",
      "metadata": {
        "id": "CR9ExcOM6AG5"
      },
      "source": [
        "Para percorrer duas ou mais listas ao mesmo tempo, as entradas podem ser pareadas com a função zip()"
      ]
    },
    {
      "cell_type": "code",
      "metadata": {
        "id": "mWfPRvksAjqG",
        "colab": {
          "base_uri": "https://localhost:8080/"
        },
        "outputId": "b7562e91-fbc0-4947-adb5-5d0be167fe72"
      },
      "source": [
        "l1=[2.5,3.9,8.7]    # definindo lista l1\n",
        "l2=[8.7,23.4,12.5]    # definindo lista l2\n",
        "for a,b in zip(l1,l2):\n",
        "    print(a,b)"
      ],
      "execution_count": 26,
      "outputs": [
        {
          "output_type": "stream",
          "text": [
            "2.5 8.7\n",
            "3.9 23.4\n",
            "8.7 12.5\n"
          ],
          "name": "stdout"
        }
      ]
    },
    {
      "cell_type": "markdown",
      "metadata": {
        "id": "Qhj65A9N6C-B"
      },
      "source": [
        "Uma lista pode ser percorrida na ordem inversa com a função reversed()"
      ]
    },
    {
      "cell_type": "code",
      "metadata": {
        "id": "dcWE2-2BAjqH",
        "colab": {
          "base_uri": "https://localhost:8080/"
        },
        "outputId": "1fb5cea7-1c65-4a69-aa1f-ce6ba4aa0d8f"
      },
      "source": [
        "for z in reversed(range(10)):\n",
        "    print(z)"
      ],
      "execution_count": 24,
      "outputs": [
        {
          "output_type": "stream",
          "text": [
            "9\n",
            "8\n",
            "7\n",
            "6\n",
            "5\n",
            "4\n",
            "3\n",
            "2\n",
            "1\n",
            "0\n"
          ],
          "name": "stdout"
        }
      ]
    },
    {
      "cell_type": "markdown",
      "metadata": {
        "id": "W72IU_FWAjqL"
      },
      "source": [
        "**Compreensões de listas**\n",
        "\n",
        "Compreensões de listas são uma maneira concisa de criar uma lista. Uma aplicação comum é criar uma nova lista onde cada elemente é resultante da avaliação de uma expressão no contexto das cláusulas for e if. \n",
        "\n",
        "Por exemplo, podemos criar uma lista com os quadrados desta forma:\n"
      ]
    },
    {
      "cell_type": "code",
      "metadata": {
        "id": "lXVVJh_7AjqM",
        "colab": {
          "base_uri": "https://localhost:8080/"
        },
        "outputId": "72b3724c-0bc9-4495-e2ef-a2a174c3885b"
      },
      "source": [
        "quadrados=[]     # cria uma lista vazia e armazena na variável quadrados\n",
        "for x in range(10):\n",
        "    quadrados.append(x**2)\n",
        "    \n",
        "print(quadrados)"
      ],
      "execution_count": 27,
      "outputs": [
        {
          "output_type": "stream",
          "text": [
            "[0, 1, 4, 9, 16, 25, 36, 49, 64, 81]\n"
          ],
          "name": "stdout"
        }
      ]
    },
    {
      "cell_type": "markdown",
      "metadata": {
        "id": "FAExrTIaAjqO"
      },
      "source": [
        "Alternativamente, podemos fazer:"
      ]
    },
    {
      "cell_type": "code",
      "metadata": {
        "id": "fqNWiljrAjqP",
        "colab": {
          "base_uri": "https://localhost:8080/"
        },
        "outputId": "fa266640-af86-4d7e-ac76-04b03419eb0c"
      },
      "source": [
        "quadrados2=[x**2 for x in range(10)]\n",
        "print(quadrados2)"
      ],
      "execution_count": 28,
      "outputs": [
        {
          "output_type": "stream",
          "text": [
            "[0, 1, 4, 9, 16, 25, 36, 49, 64, 81]\n"
          ],
          "name": "stdout"
        }
      ]
    },
    {
      "cell_type": "code",
      "metadata": {
        "id": "HgJqWxUtAjqQ",
        "colab": {
          "base_uri": "https://localhost:8080/"
        },
        "outputId": "d1d19a31-2085-4142-8d5c-8730027a5362"
      },
      "source": [
        "quadrados3=list(map(lambda x: x**2, range(10)))\n",
        "print(quadrados3)"
      ],
      "execution_count": 29,
      "outputs": [
        {
          "output_type": "stream",
          "text": [
            "[0, 1, 4, 9, 16, 25, 36, 49, 64, 81]\n"
          ],
          "name": "stdout"
        }
      ]
    },
    {
      "cell_type": "markdown",
      "metadata": {
        "id": "w722UVnuAjqS"
      },
      "source": [
        "**Tuplas**\n",
        "\n",
        "Uma tupla consiste em uma sequência de valores separados por vírgulas. Na sua criação os valores de uma tupla podem ser envolvidos ou não por parênteses. Na saída do console tuplas são sempre envolvidas por parênteses. Apesar de serem similares às listas, as tuplas são frequentemente utilizadas em situações e com propósitos distintos. O principal motivo é que tuplas são imutáveis, enquanto listas são mutáveis. "
      ]
    },
    {
      "cell_type": "code",
      "metadata": {
        "id": "H6x19doMAjqT",
        "colab": {
          "base_uri": "https://localhost:8080/"
        },
        "outputId": "ba37ef08-7dd2-4130-cb2e-0af45ce0cf06"
      },
      "source": [
        "t= 5, 87, 'bla'\n",
        "print(t)"
      ],
      "execution_count": 30,
      "outputs": [
        {
          "output_type": "stream",
          "text": [
            "(5, 87, 'bla')\n"
          ],
          "name": "stdout"
        }
      ]
    },
    {
      "cell_type": "code",
      "metadata": {
        "id": "UFQ2HBilAjqV",
        "colab": {
          "base_uri": "https://localhost:8080/"
        },
        "outputId": "02a8f5f5-a7cd-4306-aeba-c0aac9d2f22b"
      },
      "source": [
        "print(t[0])"
      ],
      "execution_count": 31,
      "outputs": [
        {
          "output_type": "stream",
          "text": [
            "5\n"
          ],
          "name": "stdout"
        }
      ]
    },
    {
      "cell_type": "code",
      "metadata": {
        "id": "7Ap_c47vAjqW",
        "colab": {
          "base_uri": "https://localhost:8080/"
        },
        "outputId": "c827b9c1-7d11-4dc2-caea-33eb43356106"
      },
      "source": [
        "u=t,(56,89,346)  \n",
        "print(u)"
      ],
      "execution_count": 32,
      "outputs": [
        {
          "output_type": "stream",
          "text": [
            "((5, 87, 'bla'), (56, 89, 346))\n"
          ],
          "name": "stdout"
        }
      ]
    },
    {
      "cell_type": "markdown",
      "metadata": {
        "id": "Cc5_rZ4-6JYX"
      },
      "source": [
        "Tuplas são **imutáveis**"
      ]
    },
    {
      "cell_type": "code",
      "metadata": {
        "id": "SywgB54oAjqY",
        "colab": {
          "base_uri": "https://localhost:8080/",
          "height": 171
        },
        "outputId": "55aeb8ef-935d-48d0-d165-e13ed1194622"
      },
      "source": [
        "t[0]=65"
      ],
      "execution_count": 33,
      "outputs": [
        {
          "output_type": "error",
          "ename": "TypeError",
          "evalue": "ignored",
          "traceback": [
            "\u001b[0;31m---------------------------------------------------------------------------\u001b[0m",
            "\u001b[0;31mTypeError\u001b[0m                                 Traceback (most recent call last)",
            "\u001b[0;32m<ipython-input-33-281fe94874ba>\u001b[0m in \u001b[0;36m<module>\u001b[0;34m()\u001b[0m\n\u001b[0;32m----> 1\u001b[0;31m \u001b[0mt\u001b[0m\u001b[0;34m[\u001b[0m\u001b[0;36m0\u001b[0m\u001b[0;34m]\u001b[0m\u001b[0;34m=\u001b[0m\u001b[0;36m65\u001b[0m\u001b[0;34m\u001b[0m\u001b[0;34m\u001b[0m\u001b[0m\n\u001b[0m",
            "\u001b[0;31mTypeError\u001b[0m: 'tuple' object does not support item assignment"
          ]
        }
      ]
    },
    {
      "cell_type": "code",
      "metadata": {
        "id": "2lYflFMIAjqa",
        "colab": {
          "base_uri": "https://localhost:8080/"
        },
        "outputId": "b1e635bb-61c9-4f35-cc98-b98f9233c9c8"
      },
      "source": [
        "v=(27.6,45.9)  #empacotamento em uma tupla\n",
        "vx, vy = v   #processo inverso de desempacotamento também é possível\n",
        "print(vx)"
      ],
      "execution_count": 34,
      "outputs": [
        {
          "output_type": "stream",
          "text": [
            "27.6\n"
          ],
          "name": "stdout"
        }
      ]
    },
    {
      "cell_type": "markdown",
      "metadata": {
        "id": "DZiITeBHAjqd"
      },
      "source": [
        "\n",
        "**Dicionários** \n",
        "\n",
        "Uma estrutura de dados muito útil é o dicionário. Eles são indexados por palavras-chaves (keys), que podem ser de qualquer tipo imutável. Os dicionários são delimitados por {} e contém uma lista de pares chave:valor separados por vírgulas. O dicionário vazio é {}. Os dicionários são utilizados para armazenar e recuperar valores a partir das palavras-chaves. É possivel substituir uma valor de uma chave por um novo valor. "
      ]
    },
    {
      "cell_type": "code",
      "metadata": {
        "id": "Q1eRDB_UAjqd",
        "colab": {
          "base_uri": "https://localhost:8080/"
        },
        "outputId": "9aa4c834-e4ea-42f1-8709-87a9796bbe8b"
      },
      "source": [
        "ramais = {'Cristina': 6473, 'Ana': 6486, 'Marina': 7256, 'Allan': 7257,'Gustavo': 7257 }\n",
        "print(ramais['Marina'])"
      ],
      "execution_count": 35,
      "outputs": [
        {
          "output_type": "stream",
          "text": [
            "7256\n"
          ],
          "name": "stdout"
        }
      ]
    },
    {
      "cell_type": "markdown",
      "metadata": {
        "id": "_NM6FE406QCV"
      },
      "source": [
        "Remover um par chave:valor"
      ]
    },
    {
      "cell_type": "code",
      "metadata": {
        "id": "apSAM189Ajqe",
        "colab": {
          "base_uri": "https://localhost:8080/"
        },
        "outputId": "5b249393-68e8-443c-df60-6044c20c4dcb"
      },
      "source": [
        "del(ramais['Allan'])\n",
        "print(ramais)"
      ],
      "execution_count": 36,
      "outputs": [
        {
          "output_type": "stream",
          "text": [
            "{'Cristina': 6473, 'Ana': 6486, 'Marina': 7256, 'Gustavo': 7257}\n"
          ],
          "name": "stdout"
        }
      ]
    },
    {
      "cell_type": "markdown",
      "metadata": {
        "id": "xGvL7Zyr6SsX"
      },
      "source": [
        "Incluir novo par chave:valor"
      ]
    },
    {
      "cell_type": "code",
      "metadata": {
        "id": "l2JyPcORAjqh",
        "colab": {
          "base_uri": "https://localhost:8080/"
        },
        "outputId": "1ebc2162-7025-4a02-c156-ba01ff45f37c"
      },
      "source": [
        "ramais['Charles'] = 6486\n",
        "print(ramais)"
      ],
      "execution_count": 37,
      "outputs": [
        {
          "output_type": "stream",
          "text": [
            "{'Cristina': 6473, 'Ana': 6486, 'Marina': 7256, 'Gustavo': 7257, 'Charles': 6486}\n"
          ],
          "name": "stdout"
        }
      ]
    },
    {
      "cell_type": "markdown",
      "metadata": {
        "id": "duUvCYKQ6W_c"
      },
      "source": [
        "Alterar o valor de uma chave"
      ]
    },
    {
      "cell_type": "code",
      "metadata": {
        "id": "qdP3KMM4Ajqi",
        "colab": {
          "base_uri": "https://localhost:8080/"
        },
        "outputId": "2c656ce0-b9b0-484c-d2ff-0832a6282bbe"
      },
      "source": [
        "ramais['Cristina']=6478\n",
        "print(ramais)"
      ],
      "execution_count": 38,
      "outputs": [
        {
          "output_type": "stream",
          "text": [
            "{'Cristina': 6478, 'Ana': 6486, 'Marina': 7256, 'Gustavo': 7257, 'Charles': 6486}\n"
          ],
          "name": "stdout"
        }
      ]
    },
    {
      "cell_type": "markdown",
      "metadata": {
        "id": "mQN2fAyM6ZZ-"
      },
      "source": [
        "Listar todas as chaves presentes no dicionário "
      ]
    },
    {
      "cell_type": "code",
      "metadata": {
        "id": "Vw4JC4nDAjqn",
        "colab": {
          "base_uri": "https://localhost:8080/"
        },
        "outputId": "1c829ab6-478b-40d5-86e2-eccd9affef0f"
      },
      "source": [
        "list(ramais)"
      ],
      "execution_count": 39,
      "outputs": [
        {
          "output_type": "execute_result",
          "data": {
            "text/plain": [
              "['Cristina', 'Ana', 'Marina', 'Gustavo', 'Charles']"
            ]
          },
          "metadata": {
            "tags": []
          },
          "execution_count": 39
        }
      ]
    },
    {
      "cell_type": "markdown",
      "metadata": {
        "id": "YIrBceAl6cf3"
      },
      "source": [
        "Verificar se uma está ou não no dicionário"
      ]
    },
    {
      "cell_type": "code",
      "metadata": {
        "id": "VOyWWNhUAjqp",
        "colab": {
          "base_uri": "https://localhost:8080/"
        },
        "outputId": "3573b344-d544-4aac-ab27-4a0d72626c74"
      },
      "source": [
        "'Cristina' in ramais"
      ],
      "execution_count": 40,
      "outputs": [
        {
          "output_type": "execute_result",
          "data": {
            "text/plain": [
              "True"
            ]
          },
          "metadata": {
            "tags": []
          },
          "execution_count": 40
        }
      ]
    },
    {
      "cell_type": "code",
      "metadata": {
        "id": "w1uDTLWBAjqr",
        "colab": {
          "base_uri": "https://localhost:8080/"
        },
        "outputId": "e67be95e-462a-44b9-daee-e05e8b7407e3"
      },
      "source": [
        "'Sandra' in ramais"
      ],
      "execution_count": 41,
      "outputs": [
        {
          "output_type": "execute_result",
          "data": {
            "text/plain": [
              "False"
            ]
          },
          "metadata": {
            "tags": []
          },
          "execution_count": 41
        }
      ]
    },
    {
      "cell_type": "markdown",
      "metadata": {
        "id": "JA6FkVXu6fio"
      },
      "source": [
        "O construtor dict cria um dicionário a partir de sequências de pares chave,valor"
      ]
    },
    {
      "cell_type": "code",
      "metadata": {
        "id": "glfUCZgSAjqu",
        "colab": {
          "base_uri": "https://localhost:8080/"
        },
        "outputId": "69a43054-9510-4df4-8017-8c94a6ae41a9"
      },
      "source": [
        "dict([('Cristina',6473), ('Ana',6486),('Marina',7256)])"
      ],
      "execution_count": 42,
      "outputs": [
        {
          "output_type": "execute_result",
          "data": {
            "text/plain": [
              "{'Ana': 6486, 'Cristina': 6473, 'Marina': 7256}"
            ]
          },
          "metadata": {
            "tags": []
          },
          "execution_count": 42
        }
      ]
    },
    {
      "cell_type": "code",
      "metadata": {
        "id": "18qk_Oi-Ajqv",
        "colab": {
          "base_uri": "https://localhost:8080/"
        },
        "outputId": "51588ef0-1d20-4ecc-cd8d-901f9ffe5dac"
      },
      "source": [
        "dict(Allan=7257,Charles=6486)"
      ],
      "execution_count": 43,
      "outputs": [
        {
          "output_type": "execute_result",
          "data": {
            "text/plain": [
              "{'Allan': 7257, 'Charles': 6486}"
            ]
          },
          "metadata": {
            "tags": []
          },
          "execution_count": 43
        }
      ]
    },
    {
      "cell_type": "markdown",
      "metadata": {
        "id": "VCdn59Dt6iUj"
      },
      "source": [
        "As compreensões de dicionário também podem ser usadas para criar dicionários a partir de expressões"
      ]
    },
    {
      "cell_type": "code",
      "metadata": {
        "id": "hIkcofMuAjqx",
        "colab": {
          "base_uri": "https://localhost:8080/"
        },
        "outputId": "3e0607bc-dc8c-4e0c-8ecd-91f1ff9ffe6f"
      },
      "source": [
        "{x: x**2 for x in range(10)}"
      ],
      "execution_count": 44,
      "outputs": [
        {
          "output_type": "execute_result",
          "data": {
            "text/plain": [
              "{0: 0, 1: 1, 2: 4, 3: 9, 4: 16, 5: 25, 6: 36, 7: 49, 8: 64, 9: 81}"
            ]
          },
          "metadata": {
            "tags": []
          },
          "execution_count": 44
        }
      ]
    },
    {
      "cell_type": "markdown",
      "metadata": {
        "id": "CF9DpbbDAjqz"
      },
      "source": [
        "Ao iterar sobre dicionários, a chave e o valor podem ser obtidos simultaneamente usando o método items()"
      ]
    },
    {
      "cell_type": "code",
      "metadata": {
        "id": "HiVVQNJlAjqz",
        "colab": {
          "base_uri": "https://localhost:8080/"
        },
        "outputId": "3d51f3c4-0d58-427d-c116-6b6e3331efd5"
      },
      "source": [
        "for nome,fone in ramais.items():\n",
        "    print(nome,fone)"
      ],
      "execution_count": 45,
      "outputs": [
        {
          "output_type": "stream",
          "text": [
            "Cristina 6478\n",
            "Ana 6486\n",
            "Marina 7256\n",
            "Gustavo 7257\n",
            "Charles 6486\n"
          ],
          "name": "stdout"
        }
      ]
    },
    {
      "cell_type": "markdown",
      "metadata": {
        "id": "YmXUR8EJ8nBS"
      },
      "source": [
        "# Módulos"
      ]
    },
    {
      "cell_type": "markdown",
      "metadata": {
        "id": "naG7sQfO8nBS"
      },
      "source": [
        "Uma boa prática ao escrever códigos maiores é dividí-lo em arquivos menores, o que pode facilitar a manutenção. \n",
        "\n",
        "Um módulo é um arquivo contendo definições e instruções Python. O nome do arquivo é o nome do módulo acrescido do sufixo .py.\n",
        "\n",
        "Um módulo também pode ser muito útil para escrever funções que são usadas em vários programas diferentes. É preferível usar um arquivo separado para uma função do que copiá-la para dentro de vários programas. \n",
        "\n",
        "Por exemplo, usando um editor de texto, foi criado um arquivo chamado fibonacci.py, contendo as funções fib e fib_lista, apresentadas na última aula. Ao importar um módulo, as funções definidas no arquivo são colocadas diretamente na tabelas de símbolos atual e poderão ser chamadas e executadas.  \n",
        "\n"
      ]
    },
    {
      "cell_type": "code",
      "metadata": {
        "id": "wwRZgRG98nBT"
      },
      "source": [
        "import fibonacci"
      ],
      "execution_count": 46,
      "outputs": []
    },
    {
      "cell_type": "code",
      "metadata": {
        "id": "uyPFWzTy8nBV",
        "colab": {
          "base_uri": "https://localhost:8080/"
        },
        "outputId": "3f6bbde3-dc9e-4abb-d527-bc2b267c66f6"
      },
      "source": [
        "fibonacci.fib(20)"
      ],
      "execution_count": 47,
      "outputs": [
        {
          "output_type": "stream",
          "text": [
            "0 1 1 2 3 5 8 13 "
          ],
          "name": "stdout"
        }
      ]
    },
    {
      "cell_type": "code",
      "metadata": {
        "id": "Y9obbPNH8nBX",
        "colab": {
          "base_uri": "https://localhost:8080/"
        },
        "outputId": "fbb66a05-807a-4bcc-c3e9-12e470832274"
      },
      "source": [
        "fibonacci.fib_lista(20)"
      ],
      "execution_count": 48,
      "outputs": [
        {
          "output_type": "execute_result",
          "data": {
            "text/plain": [
              "[0, 1, 1, 2, 3, 5, 8, 13]"
            ]
          },
          "metadata": {
            "tags": []
          },
          "execution_count": 48
        }
      ]
    },
    {
      "cell_type": "markdown",
      "metadata": {
        "id": "8OVt2KJs8nBY"
      },
      "source": [
        "Módulos podem importar outros módulos. É costume colocar todos os comandos de import no início do módulo ou de um programa. \n",
        "\n",
        "Outras maneiras de importar as definições de um módulo são:"
      ]
    },
    {
      "cell_type": "code",
      "metadata": {
        "id": "9ttNC9YI8nBY"
      },
      "source": [
        "from fibonacci import fib, fib_lista"
      ],
      "execution_count": 49,
      "outputs": []
    },
    {
      "cell_type": "code",
      "metadata": {
        "id": "EAu4pv3d8nBb"
      },
      "source": [
        "from fibonacci import *\n",
        "# Importa todos os nomed definidos em um módulo\n",
        "# Nem sempre aconselhado, pois introduz um conjunto desconhecido de nomes no ambiente, podendo levar a conflitos \n",
        "# com outros nomes previamente definidos"
      ],
      "execution_count": 50,
      "outputs": []
    },
    {
      "cell_type": "code",
      "metadata": {
        "id": "hnjDXBEp8nBc",
        "colab": {
          "base_uri": "https://localhost:8080/"
        },
        "outputId": "e1d659d2-3cba-4127-c49a-11636abbc8b9"
      },
      "source": [
        "import fibonacci as fibo\n",
        "fibo.fib(10)"
      ],
      "execution_count": 53,
      "outputs": [
        {
          "output_type": "stream",
          "text": [
            "0 1 1 2 3 5 8 "
          ],
          "name": "stdout"
        }
      ]
    },
    {
      "cell_type": "code",
      "metadata": {
        "id": "fMNsREzn8nBe",
        "colab": {
          "base_uri": "https://localhost:8080/"
        },
        "outputId": "ce5bd3f3-6f36-4cb7-87e8-d4787e46ed76"
      },
      "source": [
        "from fibonacci import fib_lista as f_l\n",
        "f_l(30)"
      ],
      "execution_count": 54,
      "outputs": [
        {
          "output_type": "execute_result",
          "data": {
            "text/plain": [
              "[0, 1, 1, 2, 3, 5, 8, 13, 21]"
            ]
          },
          "metadata": {
            "tags": []
          },
          "execution_count": 54
        }
      ]
    },
    {
      "cell_type": "markdown",
      "metadata": {
        "id": "WGkeOAV38nBk"
      },
      "source": [
        "O Python guarda versões compiladas de cada módulo no diretório \\__ pycache__ com o nome modulo.versão.pyc para acelerar o carregamento de módulos. "
      ]
    },
    {
      "cell_type": "markdown",
      "metadata": {
        "id": "Ll7qK-wq8nBl"
      },
      "source": [
        "# Pacotes"
      ]
    },
    {
      "cell_type": "markdown",
      "metadata": {
        "id": "xkvyGl3a8nBl"
      },
      "source": [
        "Os pacotes são uma maneira de estruturar o “espaço de nomes” (namespace) dos módulos Python. Eles são uma coleção de módulos. Nos referimos a um módulo dentro de um pacote como nomedopacote.nomedomodulo. \n",
        "\n",
        "Os arquivos \\__ init__.py são necessários para que o Python trate diretórios contendo o arquivo como pacotes. \\__ init__.py pode ser apenas um arquivo vazio. "
      ]
    },
    {
      "cell_type": "markdown",
      "metadata": {
        "id": "vtxZE8Hz8nBl"
      },
      "source": [
        "O pacote **math** contém todas as funções matemáticas padrão (sqrt,log, log10, exp, funções trigonométricas). "
      ]
    },
    {
      "cell_type": "code",
      "metadata": {
        "id": "3tL3r1OL8nBm",
        "colab": {
          "base_uri": "https://localhost:8080/"
        },
        "outputId": "7eb8f938-5657-44a0-a7e1-6cd1ccc5b73c"
      },
      "source": [
        "from math import log\n",
        "x = log(3)\n",
        "print(x)"
      ],
      "execution_count": 55,
      "outputs": [
        {
          "output_type": "stream",
          "text": [
            "1.0986122886681098\n"
          ],
          "name": "stdout"
        }
      ]
    },
    {
      "cell_type": "code",
      "metadata": {
        "id": "H1TtI2Tu8nBn",
        "colab": {
          "base_uri": "https://localhost:8080/"
        },
        "outputId": "603e1e72-6949-4376-bb69-3a9cd434c142"
      },
      "source": [
        "from math import pi\n",
        "print(pi)"
      ],
      "execution_count": 56,
      "outputs": [
        {
          "output_type": "stream",
          "text": [
            "3.141592653589793\n"
          ],
          "name": "stdout"
        }
      ]
    },
    {
      "cell_type": "code",
      "metadata": {
        "id": "g19B18Uu8nBo"
      },
      "source": [
        "from math import exp\n",
        "from math import sin, cos"
      ],
      "execution_count": 57,
      "outputs": []
    },
    {
      "cell_type": "code",
      "metadata": {
        "id": "Z0K0wFKS8nBr"
      },
      "source": [
        "from math import *"
      ],
      "execution_count": 58,
      "outputs": []
    },
    {
      "cell_type": "code",
      "metadata": {
        "id": "dUJ8X3Yr8nBs",
        "colab": {
          "base_uri": "https://localhost:8080/"
        },
        "outputId": "4330025a-6d6b-4b2c-fc69-fb14d7cf7b76"
      },
      "source": [
        "# Algoritmo para converter a posição de um ponto dada em coordenadas polares (r,theta) para coordenadas \n",
        "# Cartesianas (x,y)\n",
        "\n",
        "from math import sin,cos,pi\n",
        "\n",
        "r = float(input('Entre o valor de r: '))\n",
        "d = float(input('Entre o valor de theta em graus: '))\n",
        "\n",
        "theta = d*pi/180. #conversão de graus para radianos\n",
        "x = r*cos(theta)\n",
        "y = r*sin(theta)\n",
        "\n",
        "print('x=', x, 'y=',y)\n"
      ],
      "execution_count": 59,
      "outputs": [
        {
          "output_type": "stream",
          "text": [
            "Entre o valor de r: 3\n",
            "Entre o valor de theta em graus: 30\n",
            "x= 2.598076211353316 y= 1.4999999999999998\n"
          ],
          "name": "stdout"
        }
      ]
    },
    {
      "cell_type": "markdown",
      "metadata": {
        "id": "WmJCBfWl8nBv"
      },
      "source": [
        "O pacote **numpy** é fundamental para computação científica com Python. Ele oferece funções matemáticas, geradores de números aleatórios, rotinas de álgebra linear, transformada de Fourier e muito mais. Mas o seu poder está em permitir cálculos em arrays multidimensionais. \n",
        "\n",
        "O numpy executa facilmente cálculos numéricos que são muito utilizados em problemas de machine learning (aprendizado de máquina) e de processamento de imagem (imagens no computador são representadas como arrays multidimensionais de números). Além disso, o numpy oferece várias outras tarefas matemáticas.\n",
        "\n",
        "Para mais informações, consulte https://numpy.org/. "
      ]
    },
    {
      "cell_type": "markdown",
      "metadata": {
        "id": "ihRxWiqC8nBv"
      },
      "source": [
        "# Arrays"
      ]
    },
    {
      "cell_type": "markdown",
      "metadata": {
        "id": "K-SsxgYz8nBv"
      },
      "source": [
        "Um array é um conjunto ordenado de valores. Mas há diferenças importantes entre listas e arrays:\n",
        "* O número de elementos de um array é fixo e não é possível adicionar ou remover elementos de um array após criá-lo;\n",
        "* Os elementos de um array devem ser todos de um mesmo tipo, como float ou inteiros.\n",
        "\n",
        "As principais vantagens de usar arrays em vez de listas são:\n",
        "* Arrays podem ter qualquer número de dimensões. Arrays unidimensionais e bidimensionais são, respectivamente, como vetores e matrizes em álgebra linear. Listas são sempre unidimensionais. \n",
        "* Como se comportam como vetores ou matrizes, podemos fazer qualquer aritmética com eles, ao contrário de listas.\n",
        "* Arrays funcionam mais rápido que listas em Python.\n",
        "\n",
        "Cada dimensão de um array é chamada axis. O número de axes é chamada de rank do array. A indexação dos arrays também começa em 0, com um número para cada axis do array.\n"
      ]
    },
    {
      "cell_type": "code",
      "metadata": {
        "id": "H0aoLtKH8nBw",
        "colab": {
          "base_uri": "https://localhost:8080/"
        },
        "outputId": "213b89b4-27a8-4f12-c6d8-cf0312988b7b"
      },
      "source": [
        "from numpy import array\n",
        "\n",
        "a = array([[1,2,3],[4,5,6],[7,8,9]])\n",
        "\n",
        "print(a)\n"
      ],
      "execution_count": 60,
      "outputs": [
        {
          "output_type": "stream",
          "text": [
            "[[1 2 3]\n",
            " [4 5 6]\n",
            " [7 8 9]]\n"
          ],
          "name": "stdout"
        }
      ]
    },
    {
      "cell_type": "code",
      "metadata": {
        "id": "AOjWvb0Y8nBx",
        "colab": {
          "base_uri": "https://localhost:8080/"
        },
        "outputId": "37685e5e-d1fe-4d99-c987-1676f949697e"
      },
      "source": [
        "# Minha recomendação\n",
        "import numpy as np\n",
        "\n",
        "a = np.array([[1,2,3],[4,5,6],[7,8,9]])\n",
        "\n",
        "print(a)"
      ],
      "execution_count": 72,
      "outputs": [
        {
          "output_type": "stream",
          "text": [
            "[[1. 2. 3.]\n",
            " [4. 5. 6.]\n",
            " [7. 8. 9.]]\n"
          ],
          "name": "stdout"
        }
      ]
    },
    {
      "cell_type": "code",
      "metadata": {
        "id": "TR5y05iV8nBz",
        "colab": {
          "base_uri": "https://localhost:8080/"
        },
        "outputId": "89f579fb-5728-47ca-9284-30dd2c118a0d"
      },
      "source": [
        "type(a)  # checar que o tipo é um numpy array"
      ],
      "execution_count": 68,
      "outputs": [
        {
          "output_type": "execute_result",
          "data": {
            "text/plain": [
              "numpy.ndarray"
            ]
          },
          "metadata": {
            "tags": []
          },
          "execution_count": 68
        }
      ]
    },
    {
      "cell_type": "code",
      "metadata": {
        "id": "D6aUzl1h8nB1",
        "colab": {
          "base_uri": "https://localhost:8080/"
        },
        "outputId": "6362dea9-ba0e-4607-995b-4211b4646983"
      },
      "source": [
        "a.dtype  # fornece o tipo dos elementos do array\n"
      ],
      "execution_count": 71,
      "outputs": [
        {
          "output_type": "execute_result",
          "data": {
            "text/plain": [
              "dtype('float64')"
            ]
          },
          "metadata": {
            "tags": []
          },
          "execution_count": 71
        }
      ]
    },
    {
      "cell_type": "code",
      "metadata": {
        "id": "RUP7B0918nB2",
        "colab": {
          "base_uri": "https://localhost:8080/"
        },
        "outputId": "9a7d187b-12d2-4c5d-cfe5-a4790dc4b2e5"
      },
      "source": [
        "a.shape   # dimensões do array"
      ],
      "execution_count": 73,
      "outputs": [
        {
          "output_type": "execute_result",
          "data": {
            "text/plain": [
              "(3, 3)"
            ]
          },
          "metadata": {
            "tags": []
          },
          "execution_count": 73
        }
      ]
    },
    {
      "cell_type": "code",
      "metadata": {
        "id": "A36tXDc48nB4",
        "colab": {
          "base_uri": "https://localhost:8080/"
        },
        "outputId": "fe85ff80-daf7-4ec2-fb35-1eadcf4b82b6"
      },
      "source": [
        "a.ndim   # número de dimensões "
      ],
      "execution_count": 74,
      "outputs": [
        {
          "output_type": "execute_result",
          "data": {
            "text/plain": [
              "2"
            ]
          },
          "metadata": {
            "tags": []
          },
          "execution_count": 74
        }
      ]
    },
    {
      "cell_type": "code",
      "metadata": {
        "id": "qS8p8gMh8nB5",
        "colab": {
          "base_uri": "https://localhost:8080/"
        },
        "outputId": "9ff0cabe-ebc5-47e7-bfba-397542658559"
      },
      "source": [
        "a.size   # número de elementos "
      ],
      "execution_count": 75,
      "outputs": [
        {
          "output_type": "execute_result",
          "data": {
            "text/plain": [
              "9"
            ]
          },
          "metadata": {
            "tags": []
          },
          "execution_count": 75
        }
      ]
    },
    {
      "cell_type": "markdown",
      "metadata": {
        "id": "YQAlkqCs8nB7"
      },
      "source": [
        "Indexação de um array: o índice da linha vem primeiro e depois o da coluna"
      ]
    },
    {
      "cell_type": "code",
      "metadata": {
        "id": "ztCG4lWA8nB8",
        "colab": {
          "base_uri": "https://localhost:8080/"
        },
        "outputId": "83e60719-2b74-4f26-97ec-ea03a6957bb9"
      },
      "source": [
        "print(a)"
      ],
      "execution_count": 76,
      "outputs": [
        {
          "output_type": "stream",
          "text": [
            "[[1. 2. 3.]\n",
            " [4. 5. 6.]\n",
            " [7. 8. 9.]]\n"
          ],
          "name": "stdout"
        }
      ]
    },
    {
      "cell_type": "code",
      "metadata": {
        "id": "5XkdH-1k8nCJ",
        "colab": {
          "base_uri": "https://localhost:8080/"
        },
        "outputId": "2be341a0-760e-4960-c700-3f261ccca45b"
      },
      "source": [
        "print(a[2,1])"
      ],
      "execution_count": 78,
      "outputs": [
        {
          "output_type": "stream",
          "text": [
            "8.0\n"
          ],
          "name": "stdout"
        }
      ]
    },
    {
      "cell_type": "code",
      "metadata": {
        "id": "_mysw5628nCL",
        "colab": {
          "base_uri": "https://localhost:8080/"
        },
        "outputId": "858d5a4f-2aef-4471-9a91-6947f7c54004"
      },
      "source": [
        "# fatiando um array\n",
        "a[1,:]"
      ],
      "execution_count": 79,
      "outputs": [
        {
          "output_type": "execute_result",
          "data": {
            "text/plain": [
              "array([4., 5., 6.])"
            ]
          },
          "metadata": {
            "tags": []
          },
          "execution_count": 79
        }
      ]
    },
    {
      "cell_type": "code",
      "metadata": {
        "id": "7Sfi_FIa8nCN",
        "colab": {
          "base_uri": "https://localhost:8080/",
          "height": 35
        },
        "outputId": "6b1c6108-2c07-43ac-c826-473adef5e03d"
      },
      "source": [
        "a[:,0]"
      ],
      "execution_count": null,
      "outputs": [
        {
          "output_type": "execute_result",
          "data": {
            "text/plain": [
              "array([1, 4, 7])"
            ]
          },
          "metadata": {
            "tags": []
          },
          "execution_count": 43
        }
      ]
    },
    {
      "cell_type": "code",
      "metadata": {
        "id": "pBBEw_2K8nCR",
        "colab": {
          "base_uri": "https://localhost:8080/",
          "height": 35
        },
        "outputId": "99b7f0d8-7ef8-4c69-c040-edf1a8043615"
      },
      "source": [
        "a[1,0:2]"
      ],
      "execution_count": null,
      "outputs": [
        {
          "output_type": "execute_result",
          "data": {
            "text/plain": [
              "array([4, 5])"
            ]
          },
          "metadata": {
            "tags": []
          },
          "execution_count": 44
        }
      ]
    },
    {
      "cell_type": "markdown",
      "metadata": {
        "id": "ZBrIGic38nCT"
      },
      "source": [
        "Iterando sobre um array\n"
      ]
    },
    {
      "cell_type": "code",
      "metadata": {
        "id": "SYWXGGot8nCT",
        "colab": {
          "base_uri": "https://localhost:8080/"
        },
        "outputId": "f7e0109d-69f6-4799-bc62-6c894c92bcfd"
      },
      "source": [
        "b = np.array([0,2,5,8],dtype=int)\n",
        "print(b)"
      ],
      "execution_count": 80,
      "outputs": [
        {
          "output_type": "stream",
          "text": [
            "[0 2 5 8]\n"
          ],
          "name": "stdout"
        }
      ]
    },
    {
      "cell_type": "code",
      "metadata": {
        "id": "CwUDT_qV8nCU",
        "colab": {
          "base_uri": "https://localhost:8080/",
          "height": 88
        },
        "outputId": "b9645c41-0df2-484c-9f7b-f0236ad6acc5"
      },
      "source": [
        "for z in b:\n",
        "    print(z)"
      ],
      "execution_count": null,
      "outputs": [
        {
          "output_type": "stream",
          "text": [
            "0\n",
            "2\n",
            "5\n",
            "8\n"
          ],
          "name": "stdout"
        }
      ]
    },
    {
      "cell_type": "code",
      "metadata": {
        "id": "GZorh2gl8nCW",
        "colab": {
          "base_uri": "https://localhost:8080/",
          "height": 88
        },
        "outputId": "6ad8217b-7069-4cea-8000-4aedf102496b"
      },
      "source": [
        "for i in range(len(b)):\n",
        "    print(b[i])"
      ],
      "execution_count": null,
      "outputs": [
        {
          "output_type": "stream",
          "text": [
            "0\n",
            "2\n",
            "5\n",
            "8\n"
          ],
          "name": "stdout"
        }
      ]
    },
    {
      "cell_type": "markdown",
      "metadata": {
        "id": "Rd_4klVL8nCY"
      },
      "source": [
        "Outras formas de criar arrays\n"
      ]
    },
    {
      "cell_type": "code",
      "metadata": {
        "id": "MwYUKcbO8nCY",
        "colab": {
          "base_uri": "https://localhost:8080/",
          "height": 35
        },
        "outputId": "b89b6a59-0952-4a34-a180-06b68b04e52b"
      },
      "source": [
        "a0 = np.zeros(5)\n",
        "print(a0)"
      ],
      "execution_count": null,
      "outputs": [
        {
          "output_type": "stream",
          "text": [
            "[0. 0. 0. 0. 0.]\n"
          ],
          "name": "stdout"
        }
      ]
    },
    {
      "cell_type": "code",
      "metadata": {
        "id": "IepXvU7j8nCa",
        "colab": {
          "base_uri": "https://localhost:8080/",
          "height": 70
        },
        "outputId": "a0720f92-de38-4d53-af28-b6d1f9a35e47"
      },
      "source": [
        "a0_2 = np.zeros([3,4])\n",
        "print(a0_2)"
      ],
      "execution_count": null,
      "outputs": [
        {
          "output_type": "stream",
          "text": [
            "[[0. 0. 0. 0.]\n",
            " [0. 0. 0. 0.]\n",
            " [0. 0. 0. 0.]]\n"
          ],
          "name": "stdout"
        }
      ]
    },
    {
      "cell_type": "code",
      "metadata": {
        "id": "r9kkq9cg8nCc",
        "colab": {
          "base_uri": "https://localhost:8080/",
          "height": 35
        },
        "outputId": "cbbe3b10-5f08-4a89-8f00-a1ce07a8e530"
      },
      "source": [
        "a1 = np.ones(7)\n",
        "print(a1)"
      ],
      "execution_count": null,
      "outputs": [
        {
          "output_type": "stream",
          "text": [
            "[1. 1. 1. 1. 1. 1. 1.]\n"
          ],
          "name": "stdout"
        }
      ]
    },
    {
      "cell_type": "code",
      "metadata": {
        "id": "dzHqjcB08nCe",
        "colab": {
          "base_uri": "https://localhost:8080/",
          "height": 53
        },
        "outputId": "2e399ebc-2761-4d8c-8cad-f8357803a09a"
      },
      "source": [
        "a1_2 = np.ones([2,3])\n",
        "print(a1_2)"
      ],
      "execution_count": null,
      "outputs": [
        {
          "output_type": "stream",
          "text": [
            "[[1. 1. 1.]\n",
            " [1. 1. 1.]]\n"
          ],
          "name": "stdout"
        }
      ]
    },
    {
      "cell_type": "code",
      "metadata": {
        "id": "yTJaIeEF8nCf",
        "colab": {
          "base_uri": "https://localhost:8080/",
          "height": 141
        },
        "outputId": "c35182d9-8191-41e6-eaa6-830dd47c7354"
      },
      "source": [
        "a1_3 = np.ones([2,3,4])\n",
        "print(a1_3)"
      ],
      "execution_count": null,
      "outputs": [
        {
          "output_type": "stream",
          "text": [
            "[[[1. 1. 1. 1.]\n",
            "  [1. 1. 1. 1.]\n",
            "  [1. 1. 1. 1.]]\n",
            "\n",
            " [[1. 1. 1. 1.]\n",
            "  [1. 1. 1. 1.]\n",
            "  [1. 1. 1. 1.]]]\n"
          ],
          "name": "stdout"
        }
      ]
    },
    {
      "cell_type": "code",
      "metadata": {
        "id": "lbRUW1U18nCh",
        "colab": {
          "base_uri": "https://localhost:8080/",
          "height": 35
        },
        "outputId": "1bbd1f64-0e79-4dd6-fb96-c1bcd71a646d"
      },
      "source": [
        "# A função arange retorna valores espaçados igualmente em um certo intervalo. \n",
        "# O espaçamento é definido pelo passo (terceiro argumento da função).\n",
        "# numpy.arange(início,fim,passo)\n",
        "a2 = np.arange(1.,4.,0.5)\n",
        "print(a2)"
      ],
      "execution_count": null,
      "outputs": [
        {
          "output_type": "stream",
          "text": [
            "[1.  1.5 2.  2.5 3.  3.5]\n"
          ],
          "name": "stdout"
        }
      ]
    },
    {
      "cell_type": "code",
      "metadata": {
        "id": "8Vp9Sp3J8nCj",
        "colab": {
          "base_uri": "https://localhost:8080/"
        },
        "outputId": "5216e02e-cf88-44e7-977e-06b5f1171b8e"
      },
      "source": [
        "# A função linspace também retorna n valores espaçados igualmente em um certo intervalo. \n",
        "# numpy.linspace(início,fim,n) \n",
        "a3 = np.linspace(1.,10.,6)\n",
        "print(a3)"
      ],
      "execution_count": 84,
      "outputs": [
        {
          "output_type": "stream",
          "text": [
            "[ 1.   2.8  4.6  6.4  8.2 10. ]\n"
          ],
          "name": "stdout"
        }
      ]
    },
    {
      "cell_type": "code",
      "metadata": {
        "id": "5PV07cdg8nCk",
        "colab": {
          "base_uri": "https://localhost:8080/"
        },
        "outputId": "bf89d4de-a406-4366-83d6-2e4f0b64eb28"
      },
      "source": [
        "l=[2,5,9]\n",
        "a4 = np.array(l,float)\n",
        "print(a4)"
      ],
      "execution_count": 85,
      "outputs": [
        {
          "output_type": "stream",
          "text": [
            "[2. 5. 9.]\n"
          ],
          "name": "stdout"
        }
      ]
    },
    {
      "cell_type": "code",
      "metadata": {
        "id": "9vRLMGLuFc1W",
        "colab": {
          "base_uri": "https://localhost:8080/",
          "height": 70
        },
        "outputId": "843aaa63-9630-43b6-869e-b869246355e5"
      },
      "source": [
        "a5 = np.random.rand(3,4)\n",
        "print(a5)"
      ],
      "execution_count": null,
      "outputs": [
        {
          "output_type": "stream",
          "text": [
            "[[0.43571433 0.20533201 0.98174447 0.84546266]\n",
            " [0.83801409 0.69056924 0.04905891 0.08388357]\n",
            " [0.22183565 0.08117122 0.82514679 0.81113755]]\n"
          ],
          "name": "stdout"
        }
      ]
    },
    {
      "cell_type": "markdown",
      "metadata": {
        "id": "f7oPTiki8nCl"
      },
      "source": [
        "Operações com arrays"
      ]
    },
    {
      "cell_type": "code",
      "metadata": {
        "id": "GfMRy2iu8nCl",
        "colab": {
          "base_uri": "https://localhost:8080/",
          "height": 35
        },
        "outputId": "2b7019d3-f9b7-49f5-80de-acfc8fcb7a4a"
      },
      "source": [
        "c = np.array([1,2])\n",
        "d = np.array([3,4])\n",
        "\n",
        "print(c+d)"
      ],
      "execution_count": null,
      "outputs": [
        {
          "output_type": "stream",
          "text": [
            "[4 6]\n"
          ],
          "name": "stdout"
        }
      ]
    },
    {
      "cell_type": "code",
      "metadata": {
        "id": "puGCvsok8nCo",
        "colab": {
          "base_uri": "https://localhost:8080/",
          "height": 35
        },
        "outputId": "4a173a21-688b-4b9c-85ad-299e45d97ca6"
      },
      "source": [
        "print(c*d)"
      ],
      "execution_count": null,
      "outputs": [
        {
          "output_type": "stream",
          "text": [
            "[3 8]\n"
          ],
          "name": "stdout"
        }
      ]
    },
    {
      "cell_type": "code",
      "metadata": {
        "id": "b0kl0WWm8nCp",
        "colab": {
          "base_uri": "https://localhost:8080/",
          "height": 35
        },
        "outputId": "11cd03b3-6501-4ffd-8ec5-6df6da07896f"
      },
      "source": [
        "print(c**d)"
      ],
      "execution_count": null,
      "outputs": [
        {
          "output_type": "stream",
          "text": [
            "[ 1 16]\n"
          ],
          "name": "stdout"
        }
      ]
    },
    {
      "cell_type": "code",
      "metadata": {
        "id": "NIIa5yp18nCq",
        "colab": {
          "base_uri": "https://localhost:8080/",
          "height": 53
        },
        "outputId": "db8ca246-6f09-4484-d14a-ed9bfd0e3f8d"
      },
      "source": [
        "e = a1_2+6.5\n",
        "print(e)"
      ],
      "execution_count": null,
      "outputs": [
        {
          "output_type": "stream",
          "text": [
            "[[7.5 7.5 7.5]\n",
            " [7.5 7.5 7.5]]\n"
          ],
          "name": "stdout"
        }
      ]
    },
    {
      "cell_type": "code",
      "metadata": {
        "id": "AM5KDW-k8nCr",
        "colab": {
          "base_uri": "https://localhost:8080/",
          "height": 35
        },
        "outputId": "03f45821-6ddf-4e72-efe0-e9ffef20a534"
      },
      "source": [
        "#Produto escalar de dois array é feito pela função dot\n",
        "prod_esc = np.dot(c,d)\n",
        "print(prod_esc)"
      ],
      "execution_count": null,
      "outputs": [
        {
          "output_type": "stream",
          "text": [
            "11\n"
          ],
          "name": "stdout"
        }
      ]
    },
    {
      "cell_type": "code",
      "metadata": {
        "id": "38fG97288nCt",
        "colab": {
          "base_uri": "https://localhost:8080/",
          "height": 70
        },
        "outputId": "82ec510a-4d36-474e-bd14-f9e49bc9e20d"
      },
      "source": [
        "log10_c = np.log10(a5)\n",
        "print(log10_c)"
      ],
      "execution_count": null,
      "outputs": [
        {
          "output_type": "stream",
          "text": [
            "[[-0.36079816 -0.68754333 -0.00800154 -0.07290557]\n",
            " [-0.07674868 -0.16079277 -1.30928209 -1.07632309]\n",
            " [-0.65396867 -1.09059794 -0.08346878 -0.09090549]]\n"
          ],
          "name": "stdout"
        }
      ]
    },
    {
      "cell_type": "code",
      "metadata": {
        "id": "44u1W1nt8nCu",
        "colab": {
          "base_uri": "https://localhost:8080/",
          "height": 53
        },
        "outputId": "65dc8713-f5fa-4354-9817-36bcd940f95f"
      },
      "source": [
        "a = np.array([1,1])\n",
        "b = a\n",
        "a[0] = 2\n",
        "print(a)\n",
        "print(b)"
      ],
      "execution_count": null,
      "outputs": [
        {
          "output_type": "stream",
          "text": [
            "[2 1]\n",
            "[2 1]\n"
          ],
          "name": "stdout"
        }
      ]
    },
    {
      "cell_type": "code",
      "metadata": {
        "id": "R0FsevbU8nCw",
        "colab": {
          "base_uri": "https://localhost:8080/",
          "height": 53
        },
        "outputId": "1cd6c85b-c94d-41cf-966c-21158c0a9386"
      },
      "source": [
        "a = np.array([1,1])\n",
        "b = np.copy(a)\n",
        "a[0] = 2\n",
        "print(a)\n",
        "print(b)"
      ],
      "execution_count": null,
      "outputs": [
        {
          "output_type": "stream",
          "text": [
            "[2 1]\n",
            "[1 1]\n"
          ],
          "name": "stdout"
        }
      ]
    }
  ]
}